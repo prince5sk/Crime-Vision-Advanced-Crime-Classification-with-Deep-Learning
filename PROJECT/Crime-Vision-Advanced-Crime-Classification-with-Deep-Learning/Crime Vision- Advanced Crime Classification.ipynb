{
  "cells": [
    {
      "cell_type": "code",
      "source": [
        "import pandas as pd\n",
        "import numpy as np\n",
        "import matplotlib.pyplot as plt\n",
        "%matplotlib inline\n",
        "import seaborn as sns"
      ],
      "metadata": {
        "id": "TtJ8r9LMTTSt"
      },
      "execution_count": 60,
      "outputs": []
    },
    {
      "cell_type": "code",
      "source": [
        "crime = pd.read_csv('/content/archive (13).zip')"
      ],
      "metadata": {
        "id": "Ue0rrlxqUR7B"
      },
      "execution_count": 61,
      "outputs": []
    },
    {
      "cell_type": "code",
      "source": [
        "crime.head()"
      ],
      "metadata": {
        "colab": {
          "base_uri": "https://localhost:8080/",
          "height": 406
        },
        "id": "mVj6KELAUiiw",
        "outputId": "8f3dd619-670f-41b3-d2e3-770daf0c281b"
      },
      "execution_count": 62,
      "outputs": [
        {
          "output_type": "execute_result",
          "data": {
            "text/plain": [
              "             Dates        Category                      Descript  DayOfWeek  \\\n",
              "0  5/13/2015 23:53        WARRANTS                WARRANT ARREST  Wednesday   \n",
              "1  5/13/2015 23:53  OTHER OFFENSES      TRAFFIC VIOLATION ARREST  Wednesday   \n",
              "2  5/13/2015 23:33  OTHER OFFENSES      TRAFFIC VIOLATION ARREST  Wednesday   \n",
              "3  5/13/2015 23:30   LARCENY/THEFT  GRAND THEFT FROM LOCKED AUTO  Wednesday   \n",
              "4  5/13/2015 23:30   LARCENY/THEFT  GRAND THEFT FROM LOCKED AUTO  Wednesday   \n",
              "\n",
              "  PdDistrict      Resolution                    Address           X          Y  \n",
              "0   NORTHERN  ARREST, BOOKED         OAK ST / LAGUNA ST -122.425892  37.774599  \n",
              "1   NORTHERN  ARREST, BOOKED         OAK ST / LAGUNA ST -122.425892  37.774599  \n",
              "2   NORTHERN  ARREST, BOOKED  VANNESS AV / GREENWICH ST -122.424363  37.800414  \n",
              "3   NORTHERN            NONE   1500 Block of LOMBARD ST -122.426995  37.800873  \n",
              "4       PARK            NONE  100 Block of BRODERICK ST -122.438738  37.771541  "
            ],
            "text/html": [
              "\n",
              "  <div id=\"df-3bc6d776-6b38-49ec-89be-ad84876e5bca\">\n",
              "    <div class=\"colab-df-container\">\n",
              "      <div>\n",
              "<style scoped>\n",
              "    .dataframe tbody tr th:only-of-type {\n",
              "        vertical-align: middle;\n",
              "    }\n",
              "\n",
              "    .dataframe tbody tr th {\n",
              "        vertical-align: top;\n",
              "    }\n",
              "\n",
              "    .dataframe thead th {\n",
              "        text-align: right;\n",
              "    }\n",
              "</style>\n",
              "<table border=\"1\" class=\"dataframe\">\n",
              "  <thead>\n",
              "    <tr style=\"text-align: right;\">\n",
              "      <th></th>\n",
              "      <th>Dates</th>\n",
              "      <th>Category</th>\n",
              "      <th>Descript</th>\n",
              "      <th>DayOfWeek</th>\n",
              "      <th>PdDistrict</th>\n",
              "      <th>Resolution</th>\n",
              "      <th>Address</th>\n",
              "      <th>X</th>\n",
              "      <th>Y</th>\n",
              "    </tr>\n",
              "  </thead>\n",
              "  <tbody>\n",
              "    <tr>\n",
              "      <th>0</th>\n",
              "      <td>5/13/2015 23:53</td>\n",
              "      <td>WARRANTS</td>\n",
              "      <td>WARRANT ARREST</td>\n",
              "      <td>Wednesday</td>\n",
              "      <td>NORTHERN</td>\n",
              "      <td>ARREST, BOOKED</td>\n",
              "      <td>OAK ST / LAGUNA ST</td>\n",
              "      <td>-122.425892</td>\n",
              "      <td>37.774599</td>\n",
              "    </tr>\n",
              "    <tr>\n",
              "      <th>1</th>\n",
              "      <td>5/13/2015 23:53</td>\n",
              "      <td>OTHER OFFENSES</td>\n",
              "      <td>TRAFFIC VIOLATION ARREST</td>\n",
              "      <td>Wednesday</td>\n",
              "      <td>NORTHERN</td>\n",
              "      <td>ARREST, BOOKED</td>\n",
              "      <td>OAK ST / LAGUNA ST</td>\n",
              "      <td>-122.425892</td>\n",
              "      <td>37.774599</td>\n",
              "    </tr>\n",
              "    <tr>\n",
              "      <th>2</th>\n",
              "      <td>5/13/2015 23:33</td>\n",
              "      <td>OTHER OFFENSES</td>\n",
              "      <td>TRAFFIC VIOLATION ARREST</td>\n",
              "      <td>Wednesday</td>\n",
              "      <td>NORTHERN</td>\n",
              "      <td>ARREST, BOOKED</td>\n",
              "      <td>VANNESS AV / GREENWICH ST</td>\n",
              "      <td>-122.424363</td>\n",
              "      <td>37.800414</td>\n",
              "    </tr>\n",
              "    <tr>\n",
              "      <th>3</th>\n",
              "      <td>5/13/2015 23:30</td>\n",
              "      <td>LARCENY/THEFT</td>\n",
              "      <td>GRAND THEFT FROM LOCKED AUTO</td>\n",
              "      <td>Wednesday</td>\n",
              "      <td>NORTHERN</td>\n",
              "      <td>NONE</td>\n",
              "      <td>1500 Block of LOMBARD ST</td>\n",
              "      <td>-122.426995</td>\n",
              "      <td>37.800873</td>\n",
              "    </tr>\n",
              "    <tr>\n",
              "      <th>4</th>\n",
              "      <td>5/13/2015 23:30</td>\n",
              "      <td>LARCENY/THEFT</td>\n",
              "      <td>GRAND THEFT FROM LOCKED AUTO</td>\n",
              "      <td>Wednesday</td>\n",
              "      <td>PARK</td>\n",
              "      <td>NONE</td>\n",
              "      <td>100 Block of BRODERICK ST</td>\n",
              "      <td>-122.438738</td>\n",
              "      <td>37.771541</td>\n",
              "    </tr>\n",
              "  </tbody>\n",
              "</table>\n",
              "</div>\n",
              "      <button class=\"colab-df-convert\" onclick=\"convertToInteractive('df-3bc6d776-6b38-49ec-89be-ad84876e5bca')\"\n",
              "              title=\"Convert this dataframe to an interactive table.\"\n",
              "              style=\"display:none;\">\n",
              "        \n",
              "  <svg xmlns=\"http://www.w3.org/2000/svg\" height=\"24px\"viewBox=\"0 0 24 24\"\n",
              "       width=\"24px\">\n",
              "    <path d=\"M0 0h24v24H0V0z\" fill=\"none\"/>\n",
              "    <path d=\"M18.56 5.44l.94 2.06.94-2.06 2.06-.94-2.06-.94-.94-2.06-.94 2.06-2.06.94zm-11 1L8.5 8.5l.94-2.06 2.06-.94-2.06-.94L8.5 2.5l-.94 2.06-2.06.94zm10 10l.94 2.06.94-2.06 2.06-.94-2.06-.94-.94-2.06-.94 2.06-2.06.94z\"/><path d=\"M17.41 7.96l-1.37-1.37c-.4-.4-.92-.59-1.43-.59-.52 0-1.04.2-1.43.59L10.3 9.45l-7.72 7.72c-.78.78-.78 2.05 0 2.83L4 21.41c.39.39.9.59 1.41.59.51 0 1.02-.2 1.41-.59l7.78-7.78 2.81-2.81c.8-.78.8-2.07 0-2.86zM5.41 20L4 18.59l7.72-7.72 1.47 1.35L5.41 20z\"/>\n",
              "  </svg>\n",
              "      </button>\n",
              "      \n",
              "  <style>\n",
              "    .colab-df-container {\n",
              "      display:flex;\n",
              "      flex-wrap:wrap;\n",
              "      gap: 12px;\n",
              "    }\n",
              "\n",
              "    .colab-df-convert {\n",
              "      background-color: #E8F0FE;\n",
              "      border: none;\n",
              "      border-radius: 50%;\n",
              "      cursor: pointer;\n",
              "      display: none;\n",
              "      fill: #1967D2;\n",
              "      height: 32px;\n",
              "      padding: 0 0 0 0;\n",
              "      width: 32px;\n",
              "    }\n",
              "\n",
              "    .colab-df-convert:hover {\n",
              "      background-color: #E2EBFA;\n",
              "      box-shadow: 0px 1px 2px rgba(60, 64, 67, 0.3), 0px 1px 3px 1px rgba(60, 64, 67, 0.15);\n",
              "      fill: #174EA6;\n",
              "    }\n",
              "\n",
              "    [theme=dark] .colab-df-convert {\n",
              "      background-color: #3B4455;\n",
              "      fill: #D2E3FC;\n",
              "    }\n",
              "\n",
              "    [theme=dark] .colab-df-convert:hover {\n",
              "      background-color: #434B5C;\n",
              "      box-shadow: 0px 1px 3px 1px rgba(0, 0, 0, 0.15);\n",
              "      filter: drop-shadow(0px 1px 2px rgba(0, 0, 0, 0.3));\n",
              "      fill: #FFFFFF;\n",
              "    }\n",
              "  </style>\n",
              "\n",
              "      <script>\n",
              "        const buttonEl =\n",
              "          document.querySelector('#df-3bc6d776-6b38-49ec-89be-ad84876e5bca button.colab-df-convert');\n",
              "        buttonEl.style.display =\n",
              "          google.colab.kernel.accessAllowed ? 'block' : 'none';\n",
              "\n",
              "        async function convertToInteractive(key) {\n",
              "          const element = document.querySelector('#df-3bc6d776-6b38-49ec-89be-ad84876e5bca');\n",
              "          const dataTable =\n",
              "            await google.colab.kernel.invokeFunction('convertToInteractive',\n",
              "                                                     [key], {});\n",
              "          if (!dataTable) return;\n",
              "\n",
              "          const docLinkHtml = 'Like what you see? Visit the ' +\n",
              "            '<a target=\"_blank\" href=https://colab.research.google.com/notebooks/data_table.ipynb>data table notebook</a>'\n",
              "            + ' to learn more about interactive tables.';\n",
              "          element.innerHTML = '';\n",
              "          dataTable['output_type'] = 'display_data';\n",
              "          await google.colab.output.renderOutput(dataTable, element);\n",
              "          const docLink = document.createElement('div');\n",
              "          docLink.innerHTML = docLinkHtml;\n",
              "          element.appendChild(docLink);\n",
              "        }\n",
              "      </script>\n",
              "    </div>\n",
              "  </div>\n",
              "  "
            ]
          },
          "metadata": {},
          "execution_count": 62
        }
      ]
    },
    {
      "cell_type": "code",
      "source": [
        "crime.info()"
      ],
      "metadata": {
        "colab": {
          "base_uri": "https://localhost:8080/"
        },
        "id": "vRnaqCR6Uq7O",
        "outputId": "399e32ae-7ae3-4238-81f7-58e88af2c30c"
      },
      "execution_count": 10,
      "outputs": [
        {
          "output_type": "stream",
          "name": "stdout",
          "text": [
            "<class 'pandas.core.frame.DataFrame'>\n",
            "RangeIndex: 835 entries, 0 to 834\n",
            "Data columns (total 9 columns):\n",
            " #   Column      Non-Null Count  Dtype  \n",
            "---  ------      --------------  -----  \n",
            " 0   Dates       835 non-null    object \n",
            " 1   Category    835 non-null    object \n",
            " 2   Descript    835 non-null    object \n",
            " 3   DayOfWeek   835 non-null    object \n",
            " 4   PdDistrict  835 non-null    object \n",
            " 5   Resolution  835 non-null    object \n",
            " 6   Address     835 non-null    object \n",
            " 7   X           835 non-null    float64\n",
            " 8   Y           835 non-null    float64\n",
            "dtypes: float64(2), object(7)\n",
            "memory usage: 58.8+ KB\n"
          ]
        }
      ]
    },
    {
      "cell_type": "code",
      "source": [
        "crime.dtypes"
      ],
      "metadata": {
        "colab": {
          "base_uri": "https://localhost:8080/"
        },
        "id": "udYlvhNzUv_K",
        "outputId": "791a8b7a-97de-40ff-e3df-3b184907917d"
      },
      "execution_count": 11,
      "outputs": [
        {
          "output_type": "execute_result",
          "data": {
            "text/plain": [
              "Dates          object\n",
              "Category       object\n",
              "Descript       object\n",
              "DayOfWeek      object\n",
              "PdDistrict     object\n",
              "Resolution     object\n",
              "Address        object\n",
              "X             float64\n",
              "Y             float64\n",
              "dtype: object"
            ]
          },
          "metadata": {},
          "execution_count": 11
        }
      ]
    },
    {
      "cell_type": "code",
      "source": [
        "crime.describe()"
      ],
      "metadata": {
        "colab": {
          "base_uri": "https://localhost:8080/",
          "height": 300
        },
        "id": "PDLcqIPHUzc4",
        "outputId": "59c56ab1-6420-4056-b0ef-3176079377c3"
      },
      "execution_count": 63,
      "outputs": [
        {
          "output_type": "execute_result",
          "data": {
            "text/plain": [
              "                X           Y\n",
              "count  835.000000  835.000000\n",
              "mean  -122.424095   37.767228\n",
              "std      0.026053    0.025384\n",
              "min   -122.510032   37.708635\n",
              "25%   -122.434712   37.751950\n",
              "50%   -122.418434   37.775421\n",
              "75%   -122.406800   37.785491\n",
              "max   -122.365565   37.809671"
            ],
            "text/html": [
              "\n",
              "  <div id=\"df-6d19e2a8-02c4-4382-a446-185478bee2be\">\n",
              "    <div class=\"colab-df-container\">\n",
              "      <div>\n",
              "<style scoped>\n",
              "    .dataframe tbody tr th:only-of-type {\n",
              "        vertical-align: middle;\n",
              "    }\n",
              "\n",
              "    .dataframe tbody tr th {\n",
              "        vertical-align: top;\n",
              "    }\n",
              "\n",
              "    .dataframe thead th {\n",
              "        text-align: right;\n",
              "    }\n",
              "</style>\n",
              "<table border=\"1\" class=\"dataframe\">\n",
              "  <thead>\n",
              "    <tr style=\"text-align: right;\">\n",
              "      <th></th>\n",
              "      <th>X</th>\n",
              "      <th>Y</th>\n",
              "    </tr>\n",
              "  </thead>\n",
              "  <tbody>\n",
              "    <tr>\n",
              "      <th>count</th>\n",
              "      <td>835.000000</td>\n",
              "      <td>835.000000</td>\n",
              "    </tr>\n",
              "    <tr>\n",
              "      <th>mean</th>\n",
              "      <td>-122.424095</td>\n",
              "      <td>37.767228</td>\n",
              "    </tr>\n",
              "    <tr>\n",
              "      <th>std</th>\n",
              "      <td>0.026053</td>\n",
              "      <td>0.025384</td>\n",
              "    </tr>\n",
              "    <tr>\n",
              "      <th>min</th>\n",
              "      <td>-122.510032</td>\n",
              "      <td>37.708635</td>\n",
              "    </tr>\n",
              "    <tr>\n",
              "      <th>25%</th>\n",
              "      <td>-122.434712</td>\n",
              "      <td>37.751950</td>\n",
              "    </tr>\n",
              "    <tr>\n",
              "      <th>50%</th>\n",
              "      <td>-122.418434</td>\n",
              "      <td>37.775421</td>\n",
              "    </tr>\n",
              "    <tr>\n",
              "      <th>75%</th>\n",
              "      <td>-122.406800</td>\n",
              "      <td>37.785491</td>\n",
              "    </tr>\n",
              "    <tr>\n",
              "      <th>max</th>\n",
              "      <td>-122.365565</td>\n",
              "      <td>37.809671</td>\n",
              "    </tr>\n",
              "  </tbody>\n",
              "</table>\n",
              "</div>\n",
              "      <button class=\"colab-df-convert\" onclick=\"convertToInteractive('df-6d19e2a8-02c4-4382-a446-185478bee2be')\"\n",
              "              title=\"Convert this dataframe to an interactive table.\"\n",
              "              style=\"display:none;\">\n",
              "        \n",
              "  <svg xmlns=\"http://www.w3.org/2000/svg\" height=\"24px\"viewBox=\"0 0 24 24\"\n",
              "       width=\"24px\">\n",
              "    <path d=\"M0 0h24v24H0V0z\" fill=\"none\"/>\n",
              "    <path d=\"M18.56 5.44l.94 2.06.94-2.06 2.06-.94-2.06-.94-.94-2.06-.94 2.06-2.06.94zm-11 1L8.5 8.5l.94-2.06 2.06-.94-2.06-.94L8.5 2.5l-.94 2.06-2.06.94zm10 10l.94 2.06.94-2.06 2.06-.94-2.06-.94-.94-2.06-.94 2.06-2.06.94z\"/><path d=\"M17.41 7.96l-1.37-1.37c-.4-.4-.92-.59-1.43-.59-.52 0-1.04.2-1.43.59L10.3 9.45l-7.72 7.72c-.78.78-.78 2.05 0 2.83L4 21.41c.39.39.9.59 1.41.59.51 0 1.02-.2 1.41-.59l7.78-7.78 2.81-2.81c.8-.78.8-2.07 0-2.86zM5.41 20L4 18.59l7.72-7.72 1.47 1.35L5.41 20z\"/>\n",
              "  </svg>\n",
              "      </button>\n",
              "      \n",
              "  <style>\n",
              "    .colab-df-container {\n",
              "      display:flex;\n",
              "      flex-wrap:wrap;\n",
              "      gap: 12px;\n",
              "    }\n",
              "\n",
              "    .colab-df-convert {\n",
              "      background-color: #E8F0FE;\n",
              "      border: none;\n",
              "      border-radius: 50%;\n",
              "      cursor: pointer;\n",
              "      display: none;\n",
              "      fill: #1967D2;\n",
              "      height: 32px;\n",
              "      padding: 0 0 0 0;\n",
              "      width: 32px;\n",
              "    }\n",
              "\n",
              "    .colab-df-convert:hover {\n",
              "      background-color: #E2EBFA;\n",
              "      box-shadow: 0px 1px 2px rgba(60, 64, 67, 0.3), 0px 1px 3px 1px rgba(60, 64, 67, 0.15);\n",
              "      fill: #174EA6;\n",
              "    }\n",
              "\n",
              "    [theme=dark] .colab-df-convert {\n",
              "      background-color: #3B4455;\n",
              "      fill: #D2E3FC;\n",
              "    }\n",
              "\n",
              "    [theme=dark] .colab-df-convert:hover {\n",
              "      background-color: #434B5C;\n",
              "      box-shadow: 0px 1px 3px 1px rgba(0, 0, 0, 0.15);\n",
              "      filter: drop-shadow(0px 1px 2px rgba(0, 0, 0, 0.3));\n",
              "      fill: #FFFFFF;\n",
              "    }\n",
              "  </style>\n",
              "\n",
              "      <script>\n",
              "        const buttonEl =\n",
              "          document.querySelector('#df-6d19e2a8-02c4-4382-a446-185478bee2be button.colab-df-convert');\n",
              "        buttonEl.style.display =\n",
              "          google.colab.kernel.accessAllowed ? 'block' : 'none';\n",
              "\n",
              "        async function convertToInteractive(key) {\n",
              "          const element = document.querySelector('#df-6d19e2a8-02c4-4382-a446-185478bee2be');\n",
              "          const dataTable =\n",
              "            await google.colab.kernel.invokeFunction('convertToInteractive',\n",
              "                                                     [key], {});\n",
              "          if (!dataTable) return;\n",
              "\n",
              "          const docLinkHtml = 'Like what you see? Visit the ' +\n",
              "            '<a target=\"_blank\" href=https://colab.research.google.com/notebooks/data_table.ipynb>data table notebook</a>'\n",
              "            + ' to learn more about interactive tables.';\n",
              "          element.innerHTML = '';\n",
              "          dataTable['output_type'] = 'display_data';\n",
              "          await google.colab.output.renderOutput(dataTable, element);\n",
              "          const docLink = document.createElement('div');\n",
              "          docLink.innerHTML = docLinkHtml;\n",
              "          element.appendChild(docLink);\n",
              "        }\n",
              "      </script>\n",
              "    </div>\n",
              "  </div>\n",
              "  "
            ]
          },
          "metadata": {},
          "execution_count": 63
        }
      ]
    },
    {
      "cell_type": "code",
      "source": [
        "crime['Dates'] = pd.to_datetime(crime['Dates'])"
      ],
      "metadata": {
        "id": "z9l0w-hYU4vY"
      },
      "execution_count": 64,
      "outputs": []
    },
    {
      "cell_type": "code",
      "source": [
        "crime.dtypes"
      ],
      "metadata": {
        "colab": {
          "base_uri": "https://localhost:8080/"
        },
        "id": "M1D04_GRU8pv",
        "outputId": "ce47a770-93d0-4b8c-a23a-84f91ee20f06"
      },
      "execution_count": 65,
      "outputs": [
        {
          "output_type": "execute_result",
          "data": {
            "text/plain": [
              "Dates         datetime64[ns]\n",
              "Category              object\n",
              "Descript              object\n",
              "DayOfWeek             object\n",
              "PdDistrict            object\n",
              "Resolution            object\n",
              "Address               object\n",
              "X                    float64\n",
              "Y                    float64\n",
              "dtype: object"
            ]
          },
          "metadata": {},
          "execution_count": 65
        }
      ]
    },
    {
      "cell_type": "code",
      "source": [
        "crime['Category'].value_counts()"
      ],
      "metadata": {
        "colab": {
          "base_uri": "https://localhost:8080/"
        },
        "id": "LLatVlMfVA_C",
        "outputId": "a1028610-6f51-4aa4-8519-d9190722c017"
      },
      "execution_count": 15,
      "outputs": [
        {
          "output_type": "execute_result",
          "data": {
            "text/plain": [
              "LARCENY/THEFT                  223\n",
              "NON-CRIMINAL                   102\n",
              "OTHER OFFENSES                  98\n",
              "ASSAULT                         60\n",
              "VEHICLE THEFT                   54\n",
              "VANDALISM                       40\n",
              "BURGLARY                        39\n",
              "SUSPICIOUS OCC                  35\n",
              "MISSING PERSON                  27\n",
              "WARRANTS                        26\n",
              "DRUG/NARCOTIC                   15\n",
              "SECONDARY CODES                 14\n",
              "ROBBERY                         14\n",
              "FRAUD                           14\n",
              "PROSTITUTION                    13\n",
              "WEAPON LAWS                     11\n",
              "TRESPASS                        11\n",
              "SEX OFFENSES FORCIBLE           10\n",
              "DRUNKENNESS                      6\n",
              "DRIVING UNDER THE INFLUENCE      5\n",
              "KIDNAPPING                       4\n",
              "STOLEN PROPERTY                  3\n",
              "ARSON                            3\n",
              "LIQUOR LAWS                      2\n",
              "DISORDERLY CONDUCT               2\n",
              "FORGERY/COUNTERFEITING           2\n",
              "BRIBERY                          1\n",
              "EMBEZZLEMENT                     1\n",
              "Name: Category, dtype: int64"
            ]
          },
          "metadata": {},
          "execution_count": 15
        }
      ]
    },
    {
      "cell_type": "code",
      "source": [
        "crime['DayOfWeek'].value_counts()"
      ],
      "metadata": {
        "colab": {
          "base_uri": "https://localhost:8080/"
        },
        "id": "1S-_5OOmVF4C",
        "outputId": "594ebbcf-97f3-4f3b-e691-9a7505cec9ed"
      },
      "execution_count": 66,
      "outputs": [
        {
          "output_type": "execute_result",
          "data": {
            "text/plain": [
              "Saturday     313\n",
              "Thursday     207\n",
              "Monday       117\n",
              "Tuesday       94\n",
              "Sunday        77\n",
              "Friday        17\n",
              "Wednesday     10\n",
              "Name: DayOfWeek, dtype: int64"
            ]
          },
          "metadata": {},
          "execution_count": 66
        }
      ]
    },
    {
      "cell_type": "code",
      "source": [
        "crime['PdDistrict'].value_counts()"
      ],
      "metadata": {
        "colab": {
          "base_uri": "https://localhost:8080/"
        },
        "id": "XUBddcg-VKw-",
        "outputId": "d203cc96-55c1-4bd3-f4d3-b16e3faa3975"
      },
      "execution_count": 67,
      "outputs": [
        {
          "output_type": "execute_result",
          "data": {
            "text/plain": [
              "SOUTHERN      144\n",
              "NORTHERN      126\n",
              "MISSION       116\n",
              "CENTRAL        87\n",
              "BAYVIEW        84\n",
              "TARAVAL        75\n",
              "INGLESIDE      66\n",
              "RICHMOND       49\n",
              "TENDERLOIN     47\n",
              "PARK           41\n",
              "Name: PdDistrict, dtype: int64"
            ]
          },
          "metadata": {},
          "execution_count": 67
        }
      ]
    },
    {
      "cell_type": "code",
      "source": [
        "crime['Resolution'].value_counts()"
      ],
      "metadata": {
        "colab": {
          "base_uri": "https://localhost:8080/"
        },
        "id": "eeWuOsgJVPV4",
        "outputId": "872ed281-f22b-4226-b212-aef372f06558"
      },
      "execution_count": 69,
      "outputs": [
        {
          "output_type": "execute_result",
          "data": {
            "text/plain": [
              "NONE                                      600\n",
              "ARREST, BOOKED                            214\n",
              "UNFOUNDED                                  12\n",
              "ARREST, CITED                               4\n",
              "CLEARED-CONTACT JUVENILE FOR MORE INFO      2\n",
              "JUVENILE BOOKED                             2\n",
              "EXCEPTIONAL CLEARANCE                       1\n",
              "Name: Resolution, dtype: int64"
            ]
          },
          "metadata": {},
          "execution_count": 69
        }
      ]
    },
    {
      "cell_type": "code",
      "source": [
        "crime_category = crime.groupby('Category')['Category'].count().sort_values(ascending=False)"
      ],
      "metadata": {
        "id": "w3RQ7byhVSwZ"
      },
      "execution_count": 70,
      "outputs": []
    },
    {
      "cell_type": "code",
      "source": [
        "crime_category"
      ],
      "metadata": {
        "colab": {
          "base_uri": "https://localhost:8080/"
        },
        "id": "qcOkOWiKVXys",
        "outputId": "34df2188-4a63-4bcf-8032-b39950888080"
      },
      "execution_count": 71,
      "outputs": [
        {
          "output_type": "execute_result",
          "data": {
            "text/plain": [
              "Category\n",
              "LARCENY/THEFT                  223\n",
              "NON-CRIMINAL                   102\n",
              "OTHER OFFENSES                  98\n",
              "ASSAULT                         60\n",
              "VEHICLE THEFT                   54\n",
              "VANDALISM                       40\n",
              "BURGLARY                        39\n",
              "SUSPICIOUS OCC                  35\n",
              "MISSING PERSON                  27\n",
              "WARRANTS                        26\n",
              "DRUG/NARCOTIC                   15\n",
              "SECONDARY CODES                 14\n",
              "FRAUD                           14\n",
              "ROBBERY                         14\n",
              "PROSTITUTION                    13\n",
              "TRESPASS                        11\n",
              "WEAPON LAWS                     11\n",
              "SEX OFFENSES FORCIBLE           10\n",
              "DRUNKENNESS                      6\n",
              "DRIVING UNDER THE INFLUENCE      5\n",
              "KIDNAPPING                       4\n",
              "STOLEN PROPERTY                  3\n",
              "ARSON                            3\n",
              "LIQUOR LAWS                      2\n",
              "FORGERY/COUNTERFEITING           2\n",
              "DISORDERLY CONDUCT               2\n",
              "EMBEZZLEMENT                     1\n",
              "BRIBERY                          1\n",
              "Name: Category, dtype: int64"
            ]
          },
          "metadata": {},
          "execution_count": 71
        }
      ]
    },
    {
      "cell_type": "code",
      "source": [
        "plt.figure(figsize=(10,8))\n",
        "crime_category.plot(kind='barh')\n",
        "plt.xlabel('Count')\n",
        "plt.title('Number of times each Crime Category took place')\n",
        "plt.show()"
      ],
      "metadata": {
        "colab": {
          "base_uri": "https://localhost:8080/",
          "height": 647
        },
        "id": "4hm_UYukVbmW",
        "outputId": "e116982d-753a-45c9-d1e8-1055fc0293fd"
      },
      "execution_count": 72,
      "outputs": [
        {
          "output_type": "display_data",
          "data": {
            "text/plain": [
              "<Figure size 1000x800 with 1 Axes>"
            ],
            "image/png": "[encoded data removed]"
          },
          "metadata": {}
        }
      ]
    },
    {
      "cell_type": "code",
      "source": [
        "print('/content/archive (13).zip')"
      ],
      "metadata": {
        "colab": {
          "base_uri": "https://localhost:8080/"
        },
        "id": "rBoTgDAcVh5D",
        "outputId": "81000185-e75d-48c6-ff92-29e3da9d7c72"
      },
      "execution_count": 73,
      "outputs": [
        {
          "output_type": "stream",
          "name": "stdout",
          "text": [
            "/content/archive (13).zip\n"
          ]
        }
      ]
    },
    {
      "cell_type": "code",
      "source": [
        "crime.head()"
      ],
      "metadata": {
        "colab": {
          "base_uri": "https://localhost:8080/",
          "height": 424
        },
        "id": "KzxhdREiVwWO",
        "outputId": "137446d1-b467-448b-ab2e-ffb3512c8a41"
      },
      "execution_count": 74,
      "outputs": [
        {
          "output_type": "execute_result",
          "data": {
            "text/plain": [
              "                Dates        Category                      Descript  \\\n",
              "0 2015-05-13 23:53:00        WARRANTS                WARRANT ARREST   \n",
              "1 2015-05-13 23:53:00  OTHER OFFENSES      TRAFFIC VIOLATION ARREST   \n",
              "2 2015-05-13 23:33:00  OTHER OFFENSES      TRAFFIC VIOLATION ARREST   \n",
              "3 2015-05-13 23:30:00   LARCENY/THEFT  GRAND THEFT FROM LOCKED AUTO   \n",
              "4 2015-05-13 23:30:00   LARCENY/THEFT  GRAND THEFT FROM LOCKED AUTO   \n",
              "\n",
              "   DayOfWeek PdDistrict      Resolution                    Address  \\\n",
              "0  Wednesday   NORTHERN  ARREST, BOOKED         OAK ST / LAGUNA ST   \n",
              "1  Wednesday   NORTHERN  ARREST, BOOKED         OAK ST / LAGUNA ST   \n",
              "2  Wednesday   NORTHERN  ARREST, BOOKED  VANNESS AV / GREENWICH ST   \n",
              "3  Wednesday   NORTHERN            NONE   1500 Block of LOMBARD ST   \n",
              "4  Wednesday       PARK            NONE  100 Block of BRODERICK ST   \n",
              "\n",
              "            X          Y  \n",
              "0 -122.425892  37.774599  \n",
              "1 -122.425892  37.774599  \n",
              "2 -122.424363  37.800414  \n",
              "3 -122.426995  37.800873  \n",
              "4 -122.438738  37.771541  "
            ],
            "text/html": [
              "\n",
              "  <div id=\"df-3120fa9c-fbb8-4f93-990a-f830f23ba93f\">\n",
              "    <div class=\"colab-df-container\">\n",
              "      <div>\n",
              "<style scoped>\n",
              "    .dataframe tbody tr th:only-of-type {\n",
              "        vertical-align: middle;\n",
              "    }\n",
              "\n",
              "    .dataframe tbody tr th {\n",
              "        vertical-align: top;\n",
              "    }\n",
              "\n",
              "    .dataframe thead th {\n",
              "        text-align: right;\n",
              "    }\n",
              "</style>\n",
              "<table border=\"1\" class=\"dataframe\">\n",
              "  <thead>\n",
              "    <tr style=\"text-align: right;\">\n",
              "      <th></th>\n",
              "      <th>Dates</th>\n",
              "      <th>Category</th>\n",
              "      <th>Descript</th>\n",
              "      <th>DayOfWeek</th>\n",
              "      <th>PdDistrict</th>\n",
              "      <th>Resolution</th>\n",
              "      <th>Address</th>\n",
              "      <th>X</th>\n",
              "      <th>Y</th>\n",
              "    </tr>\n",
              "  </thead>\n",
              "  <tbody>\n",
              "    <tr>\n",
              "      <th>0</th>\n",
              "      <td>2015-05-13 23:53:00</td>\n",
              "      <td>WARRANTS</td>\n",
              "      <td>WARRANT ARREST</td>\n",
              "      <td>Wednesday</td>\n",
              "      <td>NORTHERN</td>\n",
              "      <td>ARREST, BOOKED</td>\n",
              "      <td>OAK ST / LAGUNA ST</td>\n",
              "      <td>-122.425892</td>\n",
              "      <td>37.774599</td>\n",
              "    </tr>\n",
              "    <tr>\n",
              "      <th>1</th>\n",
              "      <td>2015-05-13 23:53:00</td>\n",
              "      <td>OTHER OFFENSES</td>\n",
              "      <td>TRAFFIC VIOLATION ARREST</td>\n",
              "      <td>Wednesday</td>\n",
              "      <td>NORTHERN</td>\n",
              "      <td>ARREST, BOOKED</td>\n",
              "      <td>OAK ST / LAGUNA ST</td>\n",
              "      <td>-122.425892</td>\n",
              "      <td>37.774599</td>\n",
              "    </tr>\n",
              "    <tr>\n",
              "      <th>2</th>\n",
              "      <td>2015-05-13 23:33:00</td>\n",
              "      <td>OTHER OFFENSES</td>\n",
              "      <td>TRAFFIC VIOLATION ARREST</td>\n",
              "      <td>Wednesday</td>\n",
              "      <td>NORTHERN</td>\n",
              "      <td>ARREST, BOOKED</td>\n",
              "      <td>VANNESS AV / GREENWICH ST</td>\n",
              "      <td>-122.424363</td>\n",
              "      <td>37.800414</td>\n",
              "    </tr>\n",
              "    <tr>\n",
              "      <th>3</th>\n",
              "      <td>2015-05-13 23:30:00</td>\n",
              "      <td>LARCENY/THEFT</td>\n",
              "      <td>GRAND THEFT FROM LOCKED AUTO</td>\n",
              "      <td>Wednesday</td>\n",
              "      <td>NORTHERN</td>\n",
              "      <td>NONE</td>\n",
              "      <td>1500 Block of LOMBARD ST</td>\n",
              "      <td>-122.426995</td>\n",
              "      <td>37.800873</td>\n",
              "    </tr>\n",
              "    <tr>\n",
              "      <th>4</th>\n",
              "      <td>2015-05-13 23:30:00</td>\n",
              "      <td>LARCENY/THEFT</td>\n",
              "      <td>GRAND THEFT FROM LOCKED AUTO</td>\n",
              "      <td>Wednesday</td>\n",
              "      <td>PARK</td>\n",
              "      <td>NONE</td>\n",
              "      <td>100 Block of BRODERICK ST</td>\n",
              "      <td>-122.438738</td>\n",
              "      <td>37.771541</td>\n",
              "    </tr>\n",
              "  </tbody>\n",
              "</table>\n",
              "</div>\n",
              "      <button class=\"colab-df-convert\" onclick=\"convertToInteractive('df-3120fa9c-fbb8-4f93-990a-f830f23ba93f')\"\n",
              "              title=\"Convert this dataframe to an interactive table.\"\n",
              "              style=\"display:none;\">\n",
              "        \n",
              "  <svg xmlns=\"http://www.w3.org/2000/svg\" height=\"24px\"viewBox=\"0 0 24 24\"\n",
              "       width=\"24px\">\n",
              "    <path d=\"M0 0h24v24H0V0z\" fill=\"none\"/>\n",
              "    <path d=\"M18.56 5.44l.94 2.06.94-2.06 2.06-.94-2.06-.94-.94-2.06-.94 2.06-2.06.94zm-11 1L8.5 8.5l.94-2.06 2.06-.94-2.06-.94L8.5 2.5l-.94 2.06-2.06.94zm10 10l.94 2.06.94-2.06 2.06-.94-2.06-.94-.94-2.06-.94 2.06-2.06.94z\"/><path d=\"M17.41 7.96l-1.37-1.37c-.4-.4-.92-.59-1.43-.59-.52 0-1.04.2-1.43.59L10.3 9.45l-7.72 7.72c-.78.78-.78 2.05 0 2.83L4 21.41c.39.39.9.59 1.41.59.51 0 1.02-.2 1.41-.59l7.78-7.78 2.81-2.81c.8-.78.8-2.07 0-2.86zM5.41 20L4 18.59l7.72-7.72 1.47 1.35L5.41 20z\"/>\n",
              "  </svg>\n",
              "      </button>\n",
              "      \n",
              "  <style>\n",
              "    .colab-df-container {\n",
              "      display:flex;\n",
              "      flex-wrap:wrap;\n",
              "      gap: 12px;\n",
              "    }\n",
              "\n",
              "    .colab-df-convert {\n",
              "      background-color: #E8F0FE;\n",
              "      border: none;\n",
              "      border-radius: 50%;\n",
              "      cursor: pointer;\n",
              "      display: none;\n",
              "      fill: #1967D2;\n",
              "      height: 32px;\n",
              "      padding: 0 0 0 0;\n",
              "      width: 32px;\n",
              "    }\n",
              "\n",
              "    .colab-df-convert:hover {\n",
              "      background-color: #E2EBFA;\n",
              "      box-shadow: 0px 1px 2px rgba(60, 64, 67, 0.3), 0px 1px 3px 1px rgba(60, 64, 67, 0.15);\n",
              "      fill: #174EA6;\n",
              "    }\n",
              "\n",
              "    [theme=dark] .colab-df-convert {\n",
              "      background-color: #3B4455;\n",
              "      fill: #D2E3FC;\n",
              "    }\n",
              "\n",
              "    [theme=dark] .colab-df-convert:hover {\n",
              "      background-color: #434B5C;\n",
              "      box-shadow: 0px 1px 3px 1px rgba(0, 0, 0, 0.15);\n",
              "      filter: drop-shadow(0px 1px 2px rgba(0, 0, 0, 0.3));\n",
              "      fill: #FFFFFF;\n",
              "    }\n",
              "  </style>\n",
              "\n",
              "      <script>\n",
              "        const buttonEl =\n",
              "          document.querySelector('#df-3120fa9c-fbb8-4f93-990a-f830f23ba93f button.colab-df-convert');\n",
              "        buttonEl.style.display =\n",
              "          google.colab.kernel.accessAllowed ? 'block' : 'none';\n",
              "\n",
              "        async function convertToInteractive(key) {\n",
              "          const element = document.querySelector('#df-3120fa9c-fbb8-4f93-990a-f830f23ba93f');\n",
              "          const dataTable =\n",
              "            await google.colab.kernel.invokeFunction('convertToInteractive',\n",
              "                                                     [key], {});\n",
              "          if (!dataTable) return;\n",
              "\n",
              "          const docLinkHtml = 'Like what you see? Visit the ' +\n",
              "            '<a target=\"_blank\" href=https://colab.research.google.com/notebooks/data_table.ipynb>data table notebook</a>'\n",
              "            + ' to learn more about interactive tables.';\n",
              "          element.innerHTML = '';\n",
              "          dataTable['output_type'] = 'display_data';\n",
              "          await google.colab.output.renderOutput(dataTable, element);\n",
              "          const docLink = document.createElement('div');\n",
              "          docLink.innerHTML = docLinkHtml;\n",
              "          element.appendChild(docLink);\n",
              "        }\n",
              "      </script>\n",
              "    </div>\n",
              "  </div>\n",
              "  "
            ]
          },
          "metadata": {},
          "execution_count": 74
        }
      ]
    },
    {
      "cell_type": "code",
      "source": [
        "print('On SATURDAY most crimes take place')"
      ],
      "metadata": {
        "colab": {
          "base_uri": "https://localhost:8080/"
        },
        "id": "aiXMODayWQjG",
        "outputId": "2fc00c42-73e2-4880-e90e-5d1497e5cf2b"
      },
      "execution_count": 75,
      "outputs": [
        {
          "output_type": "stream",
          "name": "stdout",
          "text": [
            "On SATURDAY most crimes take place\n"
          ]
        }
      ]
    },
    {
      "cell_type": "code",
      "source": [
        "print('SOUTHERN district is famous in terms of crimes')"
      ],
      "metadata": {
        "colab": {
          "base_uri": "https://localhost:8080/"
        },
        "id": "Xr2G_mtNWh1m",
        "outputId": "c0bf9f76-6db5-4736-9af8-8329f8f2783c"
      },
      "execution_count": 76,
      "outputs": [
        {
          "output_type": "stream",
          "name": "stdout",
          "text": [
            "SOUTHERN district is famous in terms of crimes\n"
          ]
        }
      ]
    },
    {
      "cell_type": "code",
      "source": [
        "larseny_descript = crime.loc[crime['Category']=='LARCENY/THEFT','Descript'].value_counts()"
      ],
      "metadata": {
        "id": "e6TQO2DCWmNR"
      },
      "execution_count": 77,
      "outputs": []
    },
    {
      "cell_type": "code",
      "source": [
        "larseny_descript"
      ],
      "metadata": {
        "colab": {
          "base_uri": "https://localhost:8080/"
        },
        "id": "ympQtJbKWsmT",
        "outputId": "10e8bdc1-7f7e-4077-ffd0-bf603c578ec2"
      },
      "execution_count": 78,
      "outputs": [
        {
          "output_type": "execute_result",
          "data": {
            "text/plain": [
              "GRAND THEFT FROM LOCKED AUTO             76\n",
              "PETTY THEFT OF PROPERTY                  30\n",
              "GRAND THEFT FROM UNLOCKED AUTO           20\n",
              "PETTY THEFT FROM LOCKED AUTO             16\n",
              "GRAND THEFT OF PROPERTY                  13\n",
              "PETTY THEFT FROM A BUILDING              12\n",
              "GRAND THEFT FROM PERSON                  10\n",
              "GRAND THEFT FROM A BUILDING              10\n",
              "GRAND THEFT PICKPOCKET                    9\n",
              "PETTY THEFT FROM UNLOCKED AUTO            7\n",
              "PETTY THEFT SHOPLIFTING                   6\n",
              "ATTEMPTED THEFT FROM LOCKED VEHICLE       3\n",
              "GRAND THEFT BICYCLE                       3\n",
              "GRAND THEFT SHOPLIFTING                   2\n",
              "PETTY THEFT BICYCLE                       1\n",
              "LOST PROPERTY, PETTY THEFT                1\n",
              "ATTEMPTED THEFT FROM UNLOCKED VEHICLE     1\n",
              "ATTEMPTED GRAND THEFT PURSESNATCH         1\n",
              "THEFT, GRAND, OF FIREARM                  1\n",
              "ATTEMPTED SHOPLIFTING                     1\n",
              "Name: Descript, dtype: int64"
            ]
          },
          "metadata": {},
          "execution_count": 78
        }
      ]
    },
    {
      "cell_type": "code",
      "source": [
        "# grouping the data set on the basis of 'Category' and 'Resolution' columns\n",
        "category_resolution = crime.groupby(['Category','Resolution'])['Category'].count()"
      ],
      "metadata": {
        "id": "4j_lal1KWubJ"
      },
      "execution_count": 79,
      "outputs": []
    },
    {
      "cell_type": "code",
      "source": [
        "category_resolution"
      ],
      "metadata": {
        "colab": {
          "base_uri": "https://localhost:8080/"
        },
        "id": "kB73jjG3Wzpw",
        "outputId": "74f7103c-0888-4f1a-c2f5-b344a0737f15"
      },
      "execution_count": 80,
      "outputs": [
        {
          "output_type": "execute_result",
          "data": {
            "text/plain": [
              "Category                     Resolution                            \n",
              "ARSON                        ARREST, BOOKED                              1\n",
              "                             NONE                                        2\n",
              "ASSAULT                      ARREST, BOOKED                             30\n",
              "                             NONE                                       30\n",
              "BRIBERY                      ARREST, BOOKED                              1\n",
              "BURGLARY                     ARREST, BOOKED                              5\n",
              "                             NONE                                       34\n",
              "DISORDERLY CONDUCT           NONE                                        2\n",
              "DRIVING UNDER THE INFLUENCE  ARREST, BOOKED                              5\n",
              "DRUG/NARCOTIC                ARREST, BOOKED                             12\n",
              "                             ARREST, CITED                               2\n",
              "                             NONE                                        1\n",
              "DRUNKENNESS                  ARREST, BOOKED                              6\n",
              "EMBEZZLEMENT                 NONE                                        1\n",
              "FORGERY/COUNTERFEITING       NONE                                        2\n",
              "FRAUD                        ARREST, BOOKED                              1\n",
              "                             NONE                                       13\n",
              "KIDNAPPING                   ARREST, BOOKED                              2\n",
              "                             NONE                                        2\n",
              "LARCENY/THEFT                ARREST, BOOKED                              3\n",
              "                             NONE                                      220\n",
              "LIQUOR LAWS                  ARREST, BOOKED                              2\n",
              "MISSING PERSON               CLEARED-CONTACT JUVENILE FOR MORE INFO      2\n",
              "                             JUVENILE BOOKED                             1\n",
              "                             NONE                                       23\n",
              "                             UNFOUNDED                                   1\n",
              "NON-CRIMINAL                 ARREST, BOOKED                              6\n",
              "                             EXCEPTIONAL CLEARANCE                       1\n",
              "                             NONE                                       88\n",
              "                             UNFOUNDED                                   7\n",
              "OTHER OFFENSES               ARREST, BOOKED                             65\n",
              "                             ARREST, CITED                               2\n",
              "                             JUVENILE BOOKED                             1\n",
              "                             NONE                                       30\n",
              "PROSTITUTION                 ARREST, BOOKED                             12\n",
              "                             NONE                                        1\n",
              "ROBBERY                      ARREST, BOOKED                              2\n",
              "                             NONE                                       12\n",
              "SECONDARY CODES              ARREST, BOOKED                              4\n",
              "                             NONE                                       10\n",
              "SEX OFFENSES FORCIBLE        ARREST, BOOKED                              4\n",
              "                             NONE                                        5\n",
              "                             UNFOUNDED                                   1\n",
              "STOLEN PROPERTY              ARREST, BOOKED                              3\n",
              "SUSPICIOUS OCC               ARREST, BOOKED                              2\n",
              "                             NONE                                       31\n",
              "                             UNFOUNDED                                   2\n",
              "TRESPASS                     ARREST, BOOKED                              5\n",
              "                             NONE                                        6\n",
              "VANDALISM                    ARREST, BOOKED                              5\n",
              "                             NONE                                       35\n",
              "VEHICLE THEFT                ARREST, BOOKED                              6\n",
              "                             NONE                                       47\n",
              "                             UNFOUNDED                                   1\n",
              "WARRANTS                     ARREST, BOOKED                             25\n",
              "                             NONE                                        1\n",
              "WEAPON LAWS                  ARREST, BOOKED                              7\n",
              "                             NONE                                        4\n",
              "Name: Category, dtype: int64"
            ]
          },
          "metadata": {},
          "execution_count": 80
        }
      ]
    },
    {
      "cell_type": "code",
      "source": [
        "# filtering out 'LARCENY/THEFT' cases\n",
        "larceny_cases = category_resolution['LARCENY/THEFT']"
      ],
      "metadata": {
        "id": "pYKho_NSW418"
      },
      "execution_count": 81,
      "outputs": []
    },
    {
      "cell_type": "code",
      "source": [
        "larceny_cases"
      ],
      "metadata": {
        "colab": {
          "base_uri": "https://localhost:8080/"
        },
        "id": "h08CAuVfW8Vo",
        "outputId": "503b6534-fc02-40a9-e994-deeccb3441de"
      },
      "execution_count": 82,
      "outputs": [
        {
          "output_type": "execute_result",
          "data": {
            "text/plain": [
              "Resolution\n",
              "ARREST, BOOKED      3\n",
              "NONE              220\n",
              "Name: Category, dtype: int64"
            ]
          },
          "metadata": {},
          "execution_count": 82
        }
      ]
    },
    {
      "cell_type": "code",
      "source": [
        "larceny_cases.plot(kind='bar')\n",
        "plt.show()"
      ],
      "metadata": {
        "colab": {
          "base_uri": "https://localhost:8080/",
          "height": 559
        },
        "id": "eNNXqdxmW_8Y",
        "outputId": "d7449aa1-1b24-411e-892b-0df5421651da"
      },
      "execution_count": 83,
      "outputs": [
        {
          "output_type": "display_data",
          "data": {
            "text/plain": [
              "<Figure size 640x480 with 1 Axes>"
            ],
            "image/png": "[encoded data removed]"
          },
          "metadata": {}
        }
      ]
    },
    {
      "cell_type": "code",
      "source": [
        "print('There was no resolution for majority of LARCENY/THEFT cases')"
      ],
      "metadata": {
        "colab": {
          "base_uri": "https://localhost:8080/"
        },
        "id": "eBWtsU5SXEMO",
        "outputId": "ec5c0716-47d3-4e0a-ce1e-99aa1e6a4fdf"
      },
      "execution_count": 84,
      "outputs": [
        {
          "output_type": "stream",
          "name": "stdout",
          "text": [
            "There was no resolution for majority of LARCENY/THEFT cases\n"
          ]
        }
      ]
    },
    {
      "cell_type": "code",
      "source": [
        "# grouping the data based on 'Category' and 'DayOfWeek' columns\n",
        "category_day = crime.groupby(['Category','DayOfWeek'])['Category'].count()"
      ],
      "metadata": {
        "id": "yr4V1M6rXHSF"
      },
      "execution_count": 85,
      "outputs": []
    },
    {
      "cell_type": "code",
      "source": [
        "category_day"
      ],
      "metadata": {
        "colab": {
          "base_uri": "https://localhost:8080/"
        },
        "id": "4D5TNZ10Xfq6",
        "outputId": "545e0978-7bed-4c5c-f9e3-08edcb9a1108"
      },
      "execution_count": 86,
      "outputs": [
        {
          "output_type": "execute_result",
          "data": {
            "text/plain": [
              "Category     DayOfWeek\n",
              "ARSON        Monday       1\n",
              "             Saturday     1\n",
              "             Tuesday      1\n",
              "ASSAULT      Friday       1\n",
              "             Monday       6\n",
              "                         ..\n",
              "WARRANTS     Wednesday    1\n",
              "WEAPON LAWS  Monday       2\n",
              "             Saturday     6\n",
              "             Sunday       1\n",
              "             Thursday     2\n",
              "Name: Category, Length: 109, dtype: int64"
            ]
          },
          "metadata": {},
          "execution_count": 86
        }
      ]
    },
    {
      "cell_type": "code",
      "source": [
        "# filtering out 'LARCENY/THEFT' cases\n",
        "larceny_day = category_day['LARCENY/THEFT']"
      ],
      "metadata": {
        "id": "n69lekcGXjDf"
      },
      "execution_count": 87,
      "outputs": []
    },
    {
      "cell_type": "code",
      "source": [
        "larceny_day"
      ],
      "metadata": {
        "colab": {
          "base_uri": "https://localhost:8080/"
        },
        "id": "XXruSIdpXqmC",
        "outputId": "635b33d9-7261-40d4-9237-c55656c5d166"
      },
      "execution_count": 88,
      "outputs": [
        {
          "output_type": "execute_result",
          "data": {
            "text/plain": [
              "DayOfWeek\n",
              "Friday        8\n",
              "Monday       25\n",
              "Saturday     82\n",
              "Sunday       18\n",
              "Thursday     61\n",
              "Tuesday      24\n",
              "Wednesday     5\n",
              "Name: Category, dtype: int64"
            ]
          },
          "metadata": {},
          "execution_count": 88
        }
      ]
    },
    {
      "cell_type": "code",
      "source": [
        "plt.figure(figsize=(10,8))\n",
        "larceny_day.plot(kind='bar')\n",
        "plt.ylabel('Count')\n",
        "plt.show()"
      ],
      "metadata": {
        "colab": {
          "base_uri": "https://localhost:8080/",
          "height": 762
        },
        "id": "Yet4b0ltXubW",
        "outputId": "276e6aca-8125-4c37-d098-ec7c9f67ac71"
      },
      "execution_count": 89,
      "outputs": [
        {
          "output_type": "display_data",
          "data": {
            "text/plain": [
              "<Figure size 1000x800 with 1 Axes>"
            ],
            "image/png": "[encoded data removed]"
          },
          "metadata": {}
        }
      ]
    },
    {
      "cell_type": "code",
      "source": [
        "larseny_address = crime.groupby(['Category','PdDistrict','Address'])['Address'].count()['LARCENY/THEFT']['SOUTHERN'].sort_values(ascending=False)"
      ],
      "metadata": {
        "id": "bOyewfGIYP_d"
      },
      "execution_count": 90,
      "outputs": []
    },
    {
      "cell_type": "code",
      "source": [
        "larseny_address"
      ],
      "metadata": {
        "colab": {
          "base_uri": "https://localhost:8080/"
        },
        "id": "Z5vMksn0YVx-",
        "outputId": "a091796b-9dba-4772-dea1-aadb0c894a9b"
      },
      "execution_count": 91,
      "outputs": [
        {
          "output_type": "execute_result",
          "data": {
            "text/plain": [
              "Address\n",
              "800 Block of BRYANT ST                  3\n",
              "800 Block of FOLSOM ST                  2\n",
              "1100 Block of MARKET ST                 2\n",
              "400 Block of THE EMBARCADEROSOUTH ST    2\n",
              "1200 Block of MARKET ST                 2\n",
              "800 Block of MARKET ST                  2\n",
              "800 Block of MISSION ST                 2\n",
              "100 Block of BRANNAN ST                 1\n",
              "BRANNAN ST / 3RD ST                     1\n",
              "900 Block of HOWARD ST                  1\n",
              "FREELON ST / 4TH ST                     1\n",
              "FOLSOM ST / 11TH ST                     1\n",
              "700 Block of MARKET ST                  1\n",
              "HARRISON ST / 10TH ST                   1\n",
              "HARRISON ST / 6TH ST                    1\n",
              "MARKET ST / 10TH ST                     1\n",
              "MARKET ST / 5TH ST                      1\n",
              "SHERMAN ST / HARRISON ST                1\n",
              "700 Block of NATOMA ST                  1\n",
              "500 Block of BRANNAN ST                 1\n",
              "5TH ST / MARKET ST                      1\n",
              "100 Block of HAWTHORNE ST               1\n",
              "4TH ST / TOWNSEND ST                    1\n",
              "4TH ST / SHIPLEY ST                     1\n",
              "400 Block of FOLSOM ST                  1\n",
              "400 Block of BRANNAN ST                 1\n",
              "400 Block of 10TH ST                    1\n",
              "3RD ST / BRYANT ST                      1\n",
              "1ST ST / MISSION ST                     1\n",
              "1900 Block of MARKET ST                 1\n",
              "1300 Block of MARKET ST                 1\n",
              "1300 Block of FOLSOM ST                 1\n",
              "1200 Block of FOLSOM ST                 1\n",
              "1100 Block of HOWARD ST                 1\n",
              "10TH ST / MISSION ST                    1\n",
              "THE EMBARCADEROSOUTH ST / HOWARD ST     1\n",
              "Name: Address, dtype: int64"
            ]
          },
          "metadata": {},
          "execution_count": 91
        }
      ]
    },
    {
      "cell_type": "code",
      "source": [
        "print('No specific address')"
      ],
      "metadata": {
        "colab": {
          "base_uri": "https://localhost:8080/"
        },
        "id": "WE3iYFaJX_Fs",
        "outputId": "8fcb48e6-5907-4a2e-acf6-3e4f36886df0"
      },
      "execution_count": 92,
      "outputs": [
        {
          "output_type": "stream",
          "name": "stdout",
          "text": [
            "No specific address\n"
          ]
        }
      ]
    },
    {
      "cell_type": "code",
      "source": [],
      "metadata": {
        "id": "-pV5PHFgYD3s"
      },
      "execution_count": null,
      "outputs": []
    }
  ],
  "metadata": {
    "colab": {
      "provenance": []
    },
    "kernelspec": {
      "display_name": "Python 3",
      "name": "python3"
    }
  },
  "nbformat": 4,
  "nbformat_minor": 0
}